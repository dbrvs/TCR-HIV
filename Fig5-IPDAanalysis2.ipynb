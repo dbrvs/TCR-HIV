{
 "cells": [
  {
   "cell_type": "code",
   "execution_count": 1,
   "metadata": {
    "collapsed": false
   },
   "outputs": [],
   "source": [
    "#!/usr/bin/python\n",
    "# updated DBR 11/2023 #\n",
    "\n",
    "%matplotlib inline\n",
    "\n",
    "import numpy as np\n",
    "import scipy.stats as st\n",
    "import pandas as pd\n",
    "import matplotlib.pyplot as plt\n",
    "import matplotlib.cm as cm\n",
    "import seaborn as sns\n",
    "\n",
    "#for mixed effects models\n",
    "import statsmodels.api as sm\n",
    "import statsmodels.formula.api as smf\n",
    "\n",
    "import resource; resource.setrlimit(resource.RLIMIT_NOFILE, (1000,-1)) #allow many plots\n",
    "\n",
    "sns.set_style(\"ticks\")\n"
   ]
  },
  {
   "cell_type": "code",
   "execution_count": 2,
   "metadata": {
    "collapsed": false
   },
   "outputs": [],
   "source": [
    "#get the data\n",
    "#note I took all zeros and made them nan, could do the 1/Tcells thing\n",
    "\n",
    "df=pd.read_csv('IPDA-dbrclean.csv')\n",
    "\n",
    "df['int']=np.nanmean(df[['I1', 'I2', 'I3', 'I4', 'I5', 'I6', 'I7']],axis=1)\n",
    "df['int_sd']=np.nanstd(df[['I1', 'I2', 'I3', 'I4', 'I5', 'I6', 'I7']],axis=1)\n",
    "df['lint']=np.log(df['int'])\n",
    "\n",
    "\n",
    "df['tot']=np.nanmean(df[['Tot1','Tot2', 'Tot3', 'Tot4', 'Tot5', 'Tot6', 'Tot7']],axis=1)\n",
    "df['tot_sd']=np.nanstd(df[['Tot1','Tot2', 'Tot3', 'Tot4', 'Tot5', 'Tot6', 'Tot7']],axis=1)\n",
    "df['ltot']=np.log(df['tot'])\n",
    "\n",
    "for i in range(1,8):\n",
    "    df['def'+str(i)]=df['Tot'+str(i)]-df['I'+str(i)]\n",
    "\n",
    "df['def']=np.nanmean(df[['def1', 'def2', 'def3', 'def4', 'def5', 'def6', 'def7']],axis=1)\n",
    "df['def_sd']=np.nanstd(df[['def1', 'def2', 'def3', 'def4', 'def5', 'def6', 'def7']],axis=1)\n",
    "df['ldef']=np.log(df['def'])\n",
    "\n",
    "ppts=df['pid'].unique()"
   ]
  },
  {
   "cell_type": "code",
   "execution_count": 3,
   "metadata": {
    "collapsed": false
   },
   "outputs": [],
   "source": [
    "dfmem=pd.DataFrame()\n",
    "ppt4=[22, 548,  583, 746]\n",
    "for p in ppt4:\n",
    "    dfmem=dfmem.append(df[df['pid']==p])"
   ]
  },
  {
   "cell_type": "code",
   "execution_count": 4,
   "metadata": {
    "collapsed": false
   },
   "outputs": [
    {
     "name": "stderr",
     "output_type": "stream",
     "text": [
      "/Applications/anaconda/lib/python3.6/site-packages/statsmodels/base/model.py:512: ConvergenceWarning: Maximum Likelihood optimization failed to converge. Check mle_retvals\n",
      "  \"Check mle_retvals\", ConvergenceWarning)\n",
      "/Applications/anaconda/lib/python3.6/site-packages/statsmodels/regression/mixed_linear_model.py:2059: ConvergenceWarning: Retrying MixedLM optimization with lbfgs\n",
      "  ConvergenceWarning)\n",
      "/Applications/anaconda/lib/python3.6/site-packages/statsmodels/base/model.py:512: ConvergenceWarning: Maximum Likelihood optimization failed to converge. Check mle_retvals\n",
      "  \"Check mle_retvals\", ConvergenceWarning)\n",
      "/Applications/anaconda/lib/python3.6/site-packages/statsmodels/regression/mixed_linear_model.py:2059: ConvergenceWarning: Retrying MixedLM optimization with cg\n",
      "  ConvergenceWarning)\n",
      "/Applications/anaconda/lib/python3.6/site-packages/statsmodels/base/model.py:512: ConvergenceWarning: Maximum Likelihood optimization failed to converge. Check mle_retvals\n",
      "  \"Check mle_retvals\", ConvergenceWarning)\n",
      "/Applications/anaconda/lib/python3.6/site-packages/statsmodels/regression/mixed_linear_model.py:2063: ConvergenceWarning: MixedLM optimization failed, trying a different optimizer may help.\n",
      "  warnings.warn(msg, ConvergenceWarning)\n",
      "/Applications/anaconda/lib/python3.6/site-packages/statsmodels/regression/mixed_linear_model.py:2075: ConvergenceWarning: Gradient optimization failed, |grad| = 0.637488\n",
      "  warnings.warn(msg, ConvergenceWarning)\n",
      "/Applications/anaconda/lib/python3.6/site-packages/statsmodels/regression/mixed_linear_model.py:2115: ConvergenceWarning: The Hessian matrix at the estimated parameter values is not positive definite.\n",
      "  warnings.warn(msg, ConvergenceWarning)\n",
      "/Applications/anaconda/lib/python3.6/site-packages/statsmodels/base/model.py:1286: RuntimeWarning: invalid value encountered in sqrt\n",
      "  bse_ = np.sqrt(np.diag(self.cov_params()))\n"
     ]
    },
    {
     "name": "stdout",
     "output_type": "stream",
     "text": [
      "[-0.021192951389175593, -0.0374826346029531, -0.004903268175398087]\n",
      "[ 32.70649603  18.49248827 141.36432187]\n",
      "[-0.004285594097968124, -0.024647902090235364, 0.016076713894299117]\n",
      "[161.7388779   28.12195448 -43.11497891]\n"
     ]
    },
    {
     "data": {
      "image/png": "[encoded data removed]",
      "text/plain": [
       "<matplotlib.figure.Figure at 0x7f9d97e56390>"
      ]
     },
     "metadata": {},
     "output_type": "display_data"
    }
   ],
   "source": [
    "czl=['salmon','peru','tab:red','maroon',]#,'firebrick']\n",
    "maxyr=12\n",
    "simt=np.linspace(0,maxyr*12,100)\n",
    "\n",
    "#cz=['magenta','indigo']\n",
    "cz=['black','black']\n",
    "titz=['Intact','Defective']\n",
    "fig,axs=plt.subplots(1,2,sharex=True,sharey=True,figsize=(7,3))\n",
    "\n",
    "for ii, dd in enumerate(['int','def']):\n",
    "            \n",
    "    #run MEM\n",
    "    md = smf.mixedlm('l'+dd+' ~ ARTmo', dfmem, groups=dfmem['pid'])\n",
    "    mdf = md.fit()\n",
    "    mem_results=[mdf.params[1],mdf.conf_int().iloc[1,0],mdf.conf_int().iloc[1,1],\n",
    "                 mdf.params[0],mdf.conf_int().iloc[0,0],mdf.conf_int().iloc[0,1]]\n",
    "    \n",
    "    print(mem_results[:3])\n",
    "    print(-np.log(2)/mem_results[:3])\n",
    "\n",
    "    for ip,p in enumerate(ppt4):\n",
    "        tdf=dfmem[(dfmem['pid']==p)]\n",
    "        #plt.plot(tdf['ARTmo']/12,tdf[dd],color=cz[ii],ls='--',marker='o',alpha=0.5)#cz_list[pind])\n",
    "        axs[ii].errorbar(tdf['ARTmo']/12,tdf[dd],2*tdf[dd+'_sd'],color=czl[ip],ls='--',marker='o',alpha=0.5)#cz_list[pind])\n",
    "\n",
    "    axs[ii].plot(simt/12,np.exp(mem_results[3]+mem_results[0]*simt),color=cz[ii],lw=3)\n",
    "    axs[ii].fill_between(simt/12,np.exp(mem_results[4]+mem_results[1]*simt),np.exp(mem_results[5]+mem_results[2]*simt),color=cz[ii],alpha=0.1)\n",
    "    \n",
    "    hll=[]\n",
    "    titzi = titz[ii]+'\\n'\n",
    "    for im in range(3):\n",
    "        hll=str(int(-np.log(2)/mem_results[im]))\n",
    "        titzi+=hll+', '\n",
    "    \n",
    "    axs[ii].set_title(titzi)\n",
    "    axs[ii].set_xlabel('Time (years on ART)')\n",
    "\n",
    "axs[0].set_ylabel('HIV DNA per million CD4 cells')\n",
    "\n",
    "axs[ii].set_xticks(range(0,25,2))\n",
    "plt.semilogy()\n",
    "axs[ii].set_ylim([1,1e5])\n",
    "plt.xlim([-0.5,maxyr+1])\n",
    "#plt.legend()\n",
    "#plt.tight_layout()    \n",
    "plt.savefig('figures/IPDA.pdf',dpi=600)\n"
   ]
  },
  {
   "cell_type": "code",
   "execution_count": null,
   "metadata": {
    "collapsed": true
   },
   "outputs": [],
   "source": []
  }
 ],
 "metadata": {
  "kernelspec": {
   "display_name": "Python 3",
   "language": "python",
   "name": "python3"
  },
  "language_info": {
   "codemirror_mode": {
    "name": "ipython",
    "version": 3
   },
   "file_extension": ".py",
   "mimetype": "text/x-python",
   "name": "python",
   "nbconvert_exporter": "python",
   "pygments_lexer": "ipython3",
   "version": "3.6.0"
  }
 },
 "nbformat": 4,
 "nbformat_minor": 2
}
